{
 "cells": [
  {
   "cell_type": "code",
   "execution_count": 1,
   "metadata": {
    "collapsed": false
   },
   "outputs": [],
   "source": [
    "import requests, os, uuid, json"
   ]
  },
  {
   "cell_type": "code",
   "execution_count": null,
   "metadata": {
    "collapsed": false
   },
   "outputs": [],
   "source": []
  },
  {
   "cell_type": "code",
   "execution_count": 2,
   "metadata": {
    "collapsed": true
   },
   "outputs": [],
   "source": [
    "dir = '../data/articles'\n",
    "cursor_path = os.path.join(dir, 'cursor')\n",
    "cursor = open(cursor_path).read() if os.path.exists(cursor_path) else None"
   ]
  },
  {
   "cell_type": "code",
   "execution_count": null,
   "metadata": {
    "collapsed": false
   },
   "outputs": [
    {
     "name": "stdout",
     "output_type": "stream",
     "text": [
      "downloaded 99 articles, including http://nyer.cm/KZ52YuD\n",
      "downloaded 99 articles, including http://nyer.cm/Llit3fP\n",
      "downloaded 98 articles, including http://nyer.cm/Mjo0ysP\n",
      "downloaded 98 articles, including http://nyer.cm/NypmZwO\n",
      "downloaded 99 articles, including http://nyer.cm/P9G4s1p\n",
      "downloaded 98 articles, including http://nyer.cm/QBcPjYg\n",
      "downloaded 98 articles, including http://nyer.cm/RIK9YQb\n",
      "downloaded 100 articles, including http://nyer.cm/Sk74OFw\n",
      "downloaded 99 articles, including http://nyer.cm/Tlqb54r\n",
      "downloaded 98 articles, including http://nyer.cm/Uo09Vbc\n",
      "downloaded 99 articles, including http://nyer.cm/Vy7PaLq\n",
      "downloaded 98 articles, including http://nyer.cm/X9iAI1W\n",
      "downloaded 99 articles, including http://nyer.cm/YDC8q9A\n",
      "downloaded 97 articles, including http://nyer.cm/Z4bPnm3\n",
      "downloaded 99 articles, including http://nyer.cm/aE5WZlE\n",
      "downloaded 98 articles, including http://nyer.cm/bNulX4Q\n",
      "downloaded 98 articles, including http://nyer.cm/cQy4qOF\n",
      "downloaded 99 articles, including http://nyer.cm/denudta\n",
      "downloaded 100 articles, including http://nyer.cm/emrVenW\n",
      "downloaded 98 articles, including http://nyer.cm/g1kdng2\n",
      "downloaded 99 articles, including http://nyer.cm/h1jJRy9\n",
      "downloaded 99 articles, including http://nyer.cm/i9Rmwyk\n",
      "downloaded 98 articles, including http://nyer.cm/jCDlzr9\n",
      "downloaded 100 articles, including http://nyer.cm/kGfqP0J\n",
      "downloaded 100 articles, including http://nyer.cm/lHhfZC1\n",
      "downloaded 99 articles, including http://nyer.cm/mVZgT44\n",
      "downloaded 95 articles, including http://nyer.cm/nrGgN56\n",
      "downloaded 98 articles, including http://nyer.cm/p3SOIvF\n",
      "downloaded 98 articles, including http://nyer.cm/q9ojLJi\n",
      "downloaded 99 articles, including http://nyer.cm/rHfHuHc\n"
     ]
    }
   ],
   "source": [
    "while True:\n",
    "    try:\n",
    "        url = 'http://a1.nateparrott.com/dump/articles'\n",
    "        while True:\n",
    "            p = {}\n",
    "            if cursor: p['cursor'] = cursor\n",
    "            res = requests.get(url, params=p).json()    \n",
    "\n",
    "            cursor = res['cursor']\n",
    "            open(cursor_path, 'w').write(cursor)\n",
    "\n",
    "            filename = os.path.join(dir, uuid.uuid4().hex + '.json')\n",
    "            articles = res['articles']\n",
    "            last_article = articles[-1]['url']\n",
    "            print 'downloaded {} articles, including {}'.format(len(articles), last_article)\n",
    "            open(filename, 'w').write(json.dumps(articles))\n",
    "\n",
    "            if not res['has_more']:\n",
    "                print 'no more!'\n",
    "                break\n",
    "\n",
    "    except Exception as e:\n",
    "        print e"
   ]
  },
  {
   "cell_type": "code",
   "execution_count": null,
   "metadata": {
    "collapsed": false
   },
   "outputs": [],
   "source": []
  },
  {
   "cell_type": "code",
   "execution_count": null,
   "metadata": {
    "collapsed": true
   },
   "outputs": [],
   "source": []
  }
 ],
 "metadata": {
  "kernelspec": {
   "display_name": "Python 2",
   "language": "python",
   "name": "python2"
  },
  "language_info": {
   "codemirror_mode": {
    "name": "ipython",
    "version": 2
   },
   "file_extension": ".py",
   "mimetype": "text/x-python",
   "name": "python",
   "nbconvert_exporter": "python",
   "pygments_lexer": "ipython2",
   "version": "2.7.12+"
  }
 },
 "nbformat": 4,
 "nbformat_minor": 2
}
