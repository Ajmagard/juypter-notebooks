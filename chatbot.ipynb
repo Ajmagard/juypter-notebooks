{
 "cells": [
  {
   "cell_type": "code",
   "execution_count": 19,
   "metadata": {
    "collapsed": true
   },
   "outputs": [],
   "source": [
    "import tensorflow as tf\n",
    "import numpy as np\n",
    "import json\n",
    "from collections import defaultdict"
   ]
  },
  {
   "cell_type": "code",
   "execution_count": 2,
   "metadata": {
    "collapsed": true
   },
   "outputs": [],
   "source": [
    "pairs = json.load(open('../data/fb-pairs.json'))"
   ]
  },
  {
   "cell_type": "code",
   "execution_count": 3,
   "metadata": {
    "collapsed": false
   },
   "outputs": [
    {
     "name": "stdout",
     "output_type": "stream",
     "text": [
      "[[u'i have to get a filling\\non the 13th'], u'Tbh it does help']\n"
     ]
    }
   ],
   "source": [
    "print pairs[0]"
   ]
  },
  {
   "cell_type": "code",
   "execution_count": 4,
   "metadata": {
    "collapsed": false
   },
   "outputs": [],
   "source": [
    "def flatten(lists):\n",
    "    return [item for list in lists for item in list]\n"
   ]
  },
  {
   "cell_type": "code",
   "execution_count": 5,
   "metadata": {
    "collapsed": true
   },
   "outputs": [],
   "source": [
    "chars = 'abcdefghijklmnopqrstuvwxyz'\n",
    "# chars += chars.upper() # lowercase everything\n",
    "chars += ' 1234567890/:\\'\"_-()\\n'\n",
    "NONE = 0\n",
    "START = 1\n",
    "END = 2\n",
    "chars = [NONE, START, END] + list(chars)\n"
   ]
  },
  {
   "cell_type": "code",
   "execution_count": 20,
   "metadata": {
    "collapsed": true
   },
   "outputs": [],
   "source": [
    "bucket_sizes = [64] # [8, 16, 32, 64]\n",
    "buckets = [(in_size, out_size) for in_size in bucket_sizes for out_size in bucket_sizes]\n"
   ]
  },
  {
   "cell_type": "code",
   "execution_count": 21,
   "metadata": {
    "collapsed": false
   },
   "outputs": [
    {
     "name": "stdout",
     "output_type": "stream",
     "text": [
      "l doctor\n",
      "no not the dentistohhh you went to your regular doctor\n",
      "cheese\n"
     ]
    }
   ],
   "source": [
    "def vectorize_pair(pair):\n",
    "    def vectorize_str(str):\n",
    "        return [chars.index(c) for c in str.lower() if c in chars]\n",
    "    \n",
    "    context = flatten([[START] + vectorize_str(str) for str in pair[0]])\n",
    "    response = [START] + vectorize_str(pair[1]) + [END]\n",
    "    \n",
    "    def select_bucket(length):\n",
    "        for bucket in bucket_sizes:\n",
    "            if length <= bucket:\n",
    "                return bucket\n",
    "        return bucket_sizes[-1]\n",
    "    \n",
    "    def bucket_and_pad(seq, pad_on_front=False):\n",
    "        bucket = select_bucket(len(seq))\n",
    "        if pad_on_front:\n",
    "            if len(seq) > bucket:\n",
    "                seq = seq[-bucket:]\n",
    "            return [NONE] * (bucket - len(seq)) + seq\n",
    "        else:\n",
    "            if len(seq) > bucket:\n",
    "                seq = seq[:bucket]\n",
    "            return seq + [NONE] * (bucket - len(seq))\n",
    "    \n",
    "    context = bucket_and_pad(context, True)\n",
    "    response = bucket_and_pad(response, False)\n",
    "    return (np.array(context), np.array(response))\n",
    "\n",
    "def to_text(vec):\n",
    "    def iterate_until_end(seq):\n",
    "        for i in seq:\n",
    "            if i == END:\n",
    "                break\n",
    "            yield i\n",
    "    return ''.join([chars[i] for i in iterate_until_end(vec) if i > 2])\n",
    "\n",
    "pair = [[\"MESSAGE\", \"CONTEXT!\"], \"RESPONSE goes here\"]\n",
    "ctx, resp = vectorize_pair(pairs[8])\n",
    "# print ctx\n",
    "print to_text(ctx)\n",
    "print to_text(resp)"
   ]
  },
  {
   "cell_type": "code",
   "execution_count": null,
   "metadata": {
    "collapsed": true
   },
   "outputs": [],
   "source": [
    "vectorized_pairs = [vectorize_pair(msg) for msg in msgs]\n"
   ]
  }
 ],
 "metadata": {
  "kernelspec": {
   "display_name": "Python 2",
   "language": "python",
   "name": "python2"
  },
  "language_info": {
   "codemirror_mode": {
    "name": "ipython",
    "version": 2
   },
   "file_extension": ".py",
   "mimetype": "text/x-python",
   "name": "python",
   "nbconvert_exporter": "python",
   "pygments_lexer": "ipython2",
   "version": "2.7.12+"
  }
 },
 "nbformat": 4,
 "nbformat_minor": 2
}
