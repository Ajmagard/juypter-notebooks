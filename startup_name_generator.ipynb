{
 "cells": [
  {
   "cell_type": "code",
   "execution_count": 17,
   "metadata": {
    "collapsed": false
   },
   "outputs": [],
   "source": [
    "from bs4 import BeautifulSoup\n",
    "import requests\n",
    "import numpy as np\n",
    "import tensorflow as tf\n",
    "import json"
   ]
  },
  {
   "cell_type": "markdown",
   "metadata": {},
   "source": [
    "# Get a dataset of startup names and descriptions\n",
    "\n",
    "We're gonna scrape [startups-list.com](http://www.startups-list.com) and save the data we want to a file called `startups.json`"
   ]
  },
  {
   "cell_type": "code",
   "execution_count": 21,
   "metadata": {
    "collapsed": false
   },
   "outputs": [
    {
     "name": "stdout",
     "output_type": "stream",
     "text": [
      "36752 pairs of names and descriptions\n"
     ]
    }
   ],
   "source": [
    "def get_dataset():\n",
    "    home = BeautifulSoup(requests.get('http://www.startups-list.com/').text, 'lxml')\n",
    "    city_urls = []\n",
    "    for a in home.find_all(class_='citylink'):\n",
    "        city_urls.append(a['href'])\n",
    "\n",
    "    def parse_city_url(url):\n",
    "        soup = BeautifulSoup(requests.get(url).text, 'lxml')\n",
    "        pairs = []\n",
    "        for startup in soup.find_all(class_='startup'):\n",
    "            title = startup.find('h1').text.strip()\n",
    "            desc = startup.find('strong').text.strip()\n",
    "            if len(title) and len(desc):\n",
    "                pairs.append((title, desc))\n",
    "        return pairs\n",
    "    \n",
    "    pairs = []\n",
    "    for city_url in city_urls:\n",
    "        p = parse_city_url(city_url)\n",
    "        print 'got {} from {}'.format(len(p), city_url)\n",
    "        pairs += p\n",
    "    return pairs\n",
    "\n",
    "# open('startups.json', 'w').write(json.dumps(get_dataset()))\n",
    "dataset = json.load(open('startups.json'))\n",
    "\n",
    "print \"{} pairs of names and descriptions\".format(len(dataset))"
   ]
  },
  {
   "cell_type": "code",
   "execution_count": null,
   "metadata": {
    "collapsed": false
   },
   "outputs": [],
   "source": []
  },
  {
   "cell_type": "code",
   "execution_count": 18,
   "metadata": {
    "collapsed": false
   },
   "outputs": [],
   "source": []
  },
  {
   "cell_type": "code",
   "execution_count": null,
   "metadata": {
    "collapsed": true
   },
   "outputs": [],
   "source": []
  }
 ],
 "metadata": {
  "kernelspec": {
   "display_name": "Python 2",
   "language": "python",
   "name": "python2"
  },
  "language_info": {
   "codemirror_mode": {
    "name": "ipython",
    "version": 2
   },
   "file_extension": ".py",
   "mimetype": "text/x-python",
   "name": "python",
   "nbconvert_exporter": "python",
   "pygments_lexer": "ipython2",
   "version": "2.7.10"
  }
 },
 "nbformat": 4,
 "nbformat_minor": 2
}
