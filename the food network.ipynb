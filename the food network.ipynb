{
 "cells": [
  {
   "cell_type": "code",
   "execution_count": 1,
   "metadata": {
    "collapsed": true
   },
   "outputs": [],
   "source": [
    "import tensorflow as tf\n",
    "from tensorflow.contrib import layers\n",
    "import numpy as np\n",
    "import math"
   ]
  },
  {
   "cell_type": "code",
   "execution_count": 6,
   "metadata": {
    "collapsed": false
   },
   "outputs": [
    {
     "name": "stdout",
     "output_type": "stream",
     "text": [
      "(?, 128, 128, 8)\n",
      "(?, 64, 64, 16)\n",
      "(?, 32, 32, 32)\n",
      "(?, 16, 16, 64)\n",
      "(?, 8, 8, 128)\n",
      "(?, 4, 4, 256)\n",
      "(?, 2, 2, 512)\n",
      "(?, 1, 1, 1024)\n",
      "ok\n"
     ]
    }
   ],
   "source": [
    "\n",
    "#         norm = layers.batch_norm if i > 0 else None\n",
    "#         n_channels = min(256, 16 * 2 ** i)\n",
    "\n",
    "#         img = layers.conv2d(img,\n",
    "#                   n_channels, \n",
    "#                   scope='disc_'+str(i), \n",
    "#                   kernel_size=5, \n",
    "#                   activation_fn=lrelu, \n",
    "#                   stride=1,\n",
    "#                   normalizer_fn=norm, \n",
    "#                   weights_initializer=initializer)\n",
    "\n",
    "class Net(object):\n",
    "    def __init__(self, img_size, n_classes):\n",
    "        with tf.variable_scope('net'):\n",
    "            n_layers = int(math.log(img_size) / math.log(2))\n",
    "\n",
    "            inputs = tf.placeholder(tf.float32, [None, img_size, img_size, 3], name='inputs')\n",
    "            labels = tf.placeholder(tf.int64, [None], name='labels')\n",
    "\n",
    "            initial_chans = 8\n",
    "            x = self.conv(inputs, initial_chans, 1)\n",
    "            print x.get_shape()\n",
    "\n",
    "            for i, layer in enumerate(xrange(n_layers)):\n",
    "                x = self.inception_module(x, initial_chans * 2 ** (i+1), 'inception-{}'.format(i))\n",
    "                x = layers.batch_norm(x)\n",
    "                x = self.pool(x, 2, 2)\n",
    "                print x.get_shape()\n",
    "\n",
    "            logits = self.conv(x, n_classes, 1, activation=tf.identity)\n",
    "            logits = tf.reshape(logits, [-1, n_classes])\n",
    "\n",
    "            loss = tf.nn.sparse_softmax_cross_entropy_with_logits(labels=labels, logits=logits)\n",
    "            predictions = tf.argmax(logits, axis=-1)\n",
    "            accuracy = tf.reduce_mean(tf.cast(tf.equal(predictions, labels), tf.float32))\n",
    "\n",
    "            global_step = tf.contrib.framework.get_or_create_global_step()\n",
    "            lr = tf.placeholder(tf.float32, name='lr')\n",
    "            train_op = tf.train.AdamOptimizer(lr).minimize(loss, global_step=global_step)\n",
    "\n",
    "            self.inputs = inputs\n",
    "            self.labels = labels\n",
    "            self.loss = loss\n",
    "            self.predictions = predictions\n",
    "            self.accuracy = accuracy\n",
    "            self.global_step = global_step\n",
    "            self.train_op = train_op\n",
    "    \n",
    "    def conv(self, x, channels, ksize, activation=tf.nn.relu):\n",
    "        return layers.conv2d(x, \n",
    "                             channels, \n",
    "                             kernel_size=ksize, \n",
    "                             activation_fn=activation)\n",
    "    \n",
    "    def pool(self, x, ksize, stride, type='max'):\n",
    "        fn = {'max': tf.nn.max_pool, 'avg': tf.nn.avg_pool}[type]\n",
    "        return fn(x, [1, ksize, ksize, 1], [1, stride, stride, 1], 'SAME')\n",
    "    \n",
    "    def inception_module(self, x, out_channels, name):\n",
    "        # https://culurciello.github.io/tech/2016/06/04/nets.html\n",
    "        # out_channels channels must be a multiple of 4\n",
    "        \n",
    "        with tf.variable_scope(name):\n",
    "            channels = x.get_shape()[-1].value\n",
    "            bsize = out_channels / 4\n",
    "            \n",
    "            y1 = self.conv(x, bsize, 1)\n",
    "            y2 = self.conv(self.pool(x, 3, 1, 'avg'), bsize, 1)\n",
    "            y3 = self.conv(self.conv(x, bsize, 1), bsize, 3)\n",
    "            y4 = self.conv(self.conv(self.conv(x, bsize, 1), bsize, 3), bsize, 3)\n",
    "            \n",
    "            return tf.concat([y1, y2, y3, y4], axis=-1)\n",
    "\n",
    "Net(128, 10)\n",
    "print 'ok'"
   ]
  },
  {
   "cell_type": "markdown",
   "metadata": {},
   "source": [
    "## Inception module v3 \n",
    "\n",
    "<img src='https://culurciello.github.io/assets/nets/inceptionv3.jpg' width=300 />"
   ]
  },
  {
   "cell_type": "code",
   "execution_count": null,
   "metadata": {
    "collapsed": true
   },
   "outputs": [],
   "source": []
  }
 ],
 "metadata": {
  "kernelspec": {
   "display_name": "Python 2",
   "language": "python",
   "name": "python2"
  },
  "language_info": {
   "codemirror_mode": {
    "name": "ipython",
    "version": 2
   },
   "file_extension": ".py",
   "mimetype": "text/x-python",
   "name": "python",
   "nbconvert_exporter": "python",
   "pygments_lexer": "ipython2",
   "version": "2.7.10"
  }
 },
 "nbformat": 4,
 "nbformat_minor": 2
}
