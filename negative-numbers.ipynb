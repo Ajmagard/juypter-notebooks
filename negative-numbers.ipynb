{
 "cells": [
  {
   "cell_type": "code",
   "execution_count": 1,
   "metadata": {
    "collapsed": true
   },
   "outputs": [],
   "source": [
    "import tensorflow as tf\n",
    "from tensorflow.contrib import layers"
   ]
  },
  {
   "cell_type": "code",
   "execution_count": 100,
   "metadata": {
    "collapsed": false
   },
   "outputs": [],
   "source": [
    "# def create_fc(input, out_channels, name='fc'):\n",
    "#     with tf.variable_scope(name):\n",
    "#         in_channels = input.get_shape()[-1].value\n",
    "#         w = tf.get_variable('w', shape=[in_channels, out_channels])\n",
    "#         b = tf.get_variable('b', shape=[out_channels])\n",
    "#         return tf.matmul(input, w) + b\n",
    "def identity(x): return x\n",
    "def create_filter(x, name='x', reuse=False):\n",
    "    with tf.variable_scope(name, reuse=reuse):\n",
    "        return layers.fully_connected(input, 1, biases_initializer=bias_init, activation_fn=identity, scope='fc')\n"
   ]
  },
  {
   "cell_type": "code",
   "execution_count": 101,
   "metadata": {
    "collapsed": false
   },
   "outputs": [],
   "source": [
    "bias_init = tf.truncated_normal_initializer(0.0, 0.0)\n",
    "\n",
    "input = tf.random_uniform([8, 16])\n",
    "out = create_filter(input)\n",
    "out2 = create_filter(input, reuse=True)\n",
    "loss = tf.reduce_mean(tf.abs(-2 - out))\n",
    "\n",
    "train_step = tf.train.RMSPropOptimizer(0.01).minimize(loss)"
   ]
  },
  {
   "cell_type": "code",
   "execution_count": 102,
   "metadata": {
    "collapsed": true
   },
   "outputs": [],
   "source": [
    "session = tf.InteractiveSession()\n",
    "session.run(tf.group(tf.global_variables_initializer(), tf.local_variables_initializer()))"
   ]
  },
  {
   "cell_type": "code",
   "execution_count": 103,
   "metadata": {
    "collapsed": false
   },
   "outputs": [
    {
     "data": {
      "text/plain": [
       "1.8806341"
      ]
     },
     "execution_count": 103,
     "metadata": {},
     "output_type": "execute_result"
    }
   ],
   "source": [
    "loss.eval()"
   ]
  },
  {
   "cell_type": "code",
   "execution_count": 110,
   "metadata": {
    "collapsed": false
   },
   "outputs": [
    {
     "name": "stdout",
     "output_type": "stream",
     "text": [
      "0.0515578\n",
      "0.0485324\n",
      "0.055581\n",
      "0.0341664\n",
      "0.0369424\n",
      "0.0302269\n",
      "0.0623265\n",
      "0.0394686\n",
      "0.0274623\n",
      "0.0444098\n"
     ]
    }
   ],
   "source": [
    "for i in xrange(200):\n",
    "    session.run(train_step)\n",
    "    if i % 20 == 0:\n",
    "        print loss.eval()"
   ]
  },
  {
   "cell_type": "code",
   "execution_count": 111,
   "metadata": {
    "collapsed": false
   },
   "outputs": [
    {
     "data": {
      "text/plain": [
       "array([[-2.08773136],\n",
       "       [-2.07595706],\n",
       "       [-2.06983495],\n",
       "       [-2.07329035],\n",
       "       [-2.0846076 ],\n",
       "       [-2.10962224],\n",
       "       [-2.10339522],\n",
       "       [-2.0779233 ]], dtype=float32)"
      ]
     },
     "execution_count": 111,
     "metadata": {},
     "output_type": "execute_result"
    }
   ],
   "source": [
    "out.eval()"
   ]
  },
  {
   "cell_type": "code",
   "execution_count": 112,
   "metadata": {
    "collapsed": false
   },
   "outputs": [
    {
     "data": {
      "text/plain": [
       "array([[-2.09666944],\n",
       "       [-2.04945087],\n",
       "       [-2.09968972],\n",
       "       [-2.11145806],\n",
       "       [-2.08270121],\n",
       "       [-2.06038761],\n",
       "       [-2.14687371],\n",
       "       [-2.01391482]], dtype=float32)"
      ]
     },
     "execution_count": 112,
     "metadata": {},
     "output_type": "execute_result"
    }
   ],
   "source": [
    "out2.eval()"
   ]
  },
  {
   "cell_type": "code",
   "execution_count": null,
   "metadata": {
    "collapsed": true
   },
   "outputs": [],
   "source": []
  }
 ],
 "metadata": {
  "kernelspec": {
   "display_name": "Python 2",
   "language": "python",
   "name": "python2"
  },
  "language_info": {
   "codemirror_mode": {
    "name": "ipython",
    "version": 2
   },
   "file_extension": ".py",
   "mimetype": "text/x-python",
   "name": "python",
   "nbconvert_exporter": "python",
   "pygments_lexer": "ipython2",
   "version": "2.7.12+"
  }
 },
 "nbformat": 4,
 "nbformat_minor": 2
}
