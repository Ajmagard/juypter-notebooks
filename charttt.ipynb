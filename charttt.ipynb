{
 "cells": [
  {
   "cell_type": "code",
   "execution_count": 6,
   "metadata": {
    "collapsed": false
   },
   "outputs": [
    {
     "name": "stdout",
     "output_type": "stream",
     "text": [
      "<Response [200]>\n",
      "<Response [200]>\n"
     ]
    }
   ],
   "source": [
    "import requests\n",
    "from hashlib import sha256\n",
    "\n",
    "def firebase_write(path, data, type='PUT'):\n",
    "    print requests.request(type, 'https://charttt-39854.firebaseio.com/{}.json'.format(path), json=data)\n",
    "\n",
    "class Board(object):\n",
    "    def __init__(self, key):\n",
    "        self.key = key\n",
    "    \n",
    "    def chart(self, title):\n",
    "        return Chart(self, title)\n",
    "\n",
    "class Chart(object):\n",
    "    def __init__(self, group, title):\n",
    "        self.group = group\n",
    "        self.title = title\n",
    "        self.key = sha256(title).hexdigest()\n",
    "        # write the title:\n",
    "        firebase_write('{}/{}/title'.format(self.group.key, self.key), title)\n",
    "    \n",
    "    def write(self, x, **kwargs):\n",
    "        d = {'x': x}\n",
    "        for k, v in kwargs.iteritems(): d[k] = v\n",
    "        firebase_write('{}/{}/values/'.format(self.group.key, self.key), d, type='POST')\n",
    "\n",
    "b = Board('test2')\n",
    "b.chart('Model 1').write(10, accuracy=5)"
   ]
  },
  {
   "cell_type": "code",
   "execution_count": null,
   "metadata": {
    "collapsed": true
   },
   "outputs": [],
   "source": []
  }
 ],
 "metadata": {
  "kernelspec": {
   "display_name": "Python 2",
   "language": "python",
   "name": "python2"
  },
  "language_info": {
   "codemirror_mode": {
    "name": "ipython",
    "version": 2
   },
   "file_extension": ".py",
   "mimetype": "text/x-python",
   "name": "python",
   "nbconvert_exporter": "python",
   "pygments_lexer": "ipython2",
   "version": "2.7.12+"
  }
 },
 "nbformat": 4,
 "nbformat_minor": 2
}
