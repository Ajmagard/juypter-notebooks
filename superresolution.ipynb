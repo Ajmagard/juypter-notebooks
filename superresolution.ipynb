{
 "cells": [
  {
   "cell_type": "markdown",
   "metadata": {},
   "source": [
    "# Image Super-Resolution Using Deep Convolutional Networks\n",
    "\n",
    "[Paper](https://arxiv.org/pdf/1501.00092v3.pdf) [Sample implementation](https://github.com/tegg89/SRCNN-Tensorflow)\n",
    "\n",
    "Rather than using ImageNet images, let's limit this model to upscaling **faces** using the **CelebA dataset.**\n"
   ]
  },
  {
   "cell_type": "code",
   "execution_count": 1,
   "metadata": {
    "collapsed": true
   },
   "outputs": [],
   "source": [
    "import tensorflow as tf\n",
    "import numpy as np\n",
    "from nbutil import imshow_multi, to_pil\n",
    "from tensorflow.contrib.layers.python.layers import batch_norm\n",
    "from tensorflow.contrib.layers import xavier_initializer\n",
    "import skimage\n",
    "import skimage.io\n",
    "import random\n"
   ]
  },
  {
   "cell_type": "code",
   "execution_count": null,
   "metadata": {
    "collapsed": true
   },
   "outputs": [],
   "source": []
  }
 ],
 "metadata": {
  "kernelspec": {
   "display_name": "Python 2",
   "language": "python",
   "name": "python2"
  },
  "language_info": {
   "codemirror_mode": {
    "name": "ipython",
    "version": 2
   },
   "file_extension": ".py",
   "mimetype": "text/x-python",
   "name": "python",
   "nbconvert_exporter": "python",
   "pygments_lexer": "ipython2",
   "version": "2.7.12+"
  }
 },
 "nbformat": 4,
 "nbformat_minor": 2
}
