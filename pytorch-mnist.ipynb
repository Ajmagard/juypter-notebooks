{
 "cells": [
  {
   "cell_type": "code",
   "execution_count": 42,
   "metadata": {
    "collapsed": true
   },
   "outputs": [],
   "source": [
    "import torch\n",
    "import torch.nn as nn\n",
    "import torch.nn.functional as F\n",
    "from torch.autograd import Variable\n",
    "import numpy as np\n",
    "from nbutil import imshow_multi\n",
    "import random"
   ]
  },
  {
   "cell_type": "code",
   "execution_count": 4,
   "metadata": {
    "collapsed": false
   },
   "outputs": [],
   "source": [
    "from read_mnist import read_images, read_labels\n",
    "\n",
    "def load_dataset(name):\n",
    "    def featurize(image):\n",
    "        return image.astype(float) / 255.0\n",
    "    images = np.array([featurize(image) for image in read_images(name + '-images-idx3-ubyte')])\n",
    "    labels = np.array([label for label in read_labels(name + '-labels-idx1-ubyte')])\n",
    "    return images, labels\n",
    "\n",
    "import os\n",
    "test_in, test_out = load_dataset('../data/t10k')\n",
    "train_in, train_out = load_dataset('../data/train')\n",
    "nb_classes = 10"
   ]
  },
  {
   "cell_type": "code",
   "execution_count": 8,
   "metadata": {
    "collapsed": false
   },
   "outputs": [
    {
     "data": {
      "image/png": "[encoded data removed]",
      "text/plain": [
       "<matplotlib.figure.Figure at 0x7f9c6d4c5250>"
      ]
     },
     "metadata": {},
     "output_type": "display_data"
    }
   ],
   "source": [
    "imshow_multi(test_in[0:5])\n"
   ]
  },
  {
   "cell_type": "code",
   "execution_count": 51,
   "metadata": {
    "collapsed": false
   },
   "outputs": [],
   "source": [
    "# two conv layers:\n",
    "# 28x28x1 -> 14x14x16 -> 7x7x16\n",
    "\n",
    "class Net(nn.Module):\n",
    "    def __init__(self):\n",
    "        super(Net, self).__init__()\n",
    "        self.conv1 = nn.Conv2d(1, 16, 3, padding=1)\n",
    "        self.conv2 = nn.Conv2d(16, 16, 3, padding=1)\n",
    "        self.fc1 = nn.Linear(7 * 7 * 16, 256)\n",
    "        self.fc2 = nn.Linear(256, 10)\n",
    "    \n",
    "    def forward(self, x):\n",
    "        x = x.view(-1, 1, 28, 28)\n",
    "        x = F.relu(self.conv1(x))\n",
    "        x = F.max_pool2d(x, (2,2))\n",
    "        x = F.relu(self.conv2(x))\n",
    "        x = F.max_pool2d(x, (2,2))\n",
    "        x = x.view(-1, 7*7*16)\n",
    "        x = F.relu(self.fc1(x))\n",
    "        x = self.fc2(x)\n",
    "        return x\n",
    "\n",
    "net = Net()\n"
   ]
  },
  {
   "cell_type": "code",
   "execution_count": 99,
   "metadata": {
    "collapsed": false
   },
   "outputs": [],
   "source": [
    "batch_size = 16\n",
    "def minibatch(inputs, labels):\n",
    "    idx = [random.randint(0, len(inputs)-1) for _ in xrange(batch_size)]\n",
    "    img, label = np.array([inputs[i] for i in idx]), np.array([labels[i] for i in idx])\n",
    "    return torch.from_numpy(img).float(), torch.from_numpy(label).long()\n"
   ]
  },
  {
   "cell_type": "code",
   "execution_count": 73,
   "metadata": {
    "collapsed": false
   },
   "outputs": [
    {
     "name": "stdout",
     "output_type": "stream",
     "text": [
      "torch.FloatTensor\n"
     ]
    }
   ],
   "source": []
  },
  {
   "cell_type": "code",
   "execution_count": 35,
   "metadata": {
    "collapsed": false
   },
   "outputs": [
    {
     "data": {
      "text/plain": [
       "torch.Size([2, 5, 2, 5])"
      ]
     },
     "execution_count": 35,
     "metadata": {},
     "output_type": "execute_result"
    }
   ],
   "source": [
    "x = torch.rand(10, 10)\n",
    "x.view(-1, 5, 2, 5).size()"
   ]
  },
  {
   "cell_type": "code",
   "execution_count": 76,
   "metadata": {
    "collapsed": false
   },
   "outputs": [],
   "source": []
  },
  {
   "cell_type": "code",
   "execution_count": 79,
   "metadata": {
    "collapsed": true
   },
   "outputs": [],
   "source": [
    "crit = nn.CrossEntropyLoss()\n",
    "opt = torch.optim.SGD(net.parameters(), lr=0.001, momentum=0.9)\n",
    "\n",
    "def train_step():\n",
    "    opt.zero_grad()\n",
    "    \n",
    "    images, labels = minibatch(train_in, train_out)\n",
    "    images = Variable(images)\n",
    "    labels = Variable(labels)\n",
    "    out_labels = net.forward(images)\n",
    "    loss = crit(out_labels, labels)\n",
    "    loss.backward()\n",
    "    opt.step()\n"
   ]
  },
  {
   "cell_type": "code",
   "execution_count": 97,
   "metadata": {
    "collapsed": false
   },
   "outputs": [
    {
     "data": {
      "text/plain": [
       "0.103125"
      ]
     },
     "execution_count": 97,
     "metadata": {},
     "output_type": "execute_result"
    }
   ],
   "source": [
    "def compute_acc(n=20):\n",
    "    # accuracy on 20 minibatches:\n",
    "    correct = 0\n",
    "    incorrect = 0\n",
    "    for _ in xrange(n):\n",
    "        images, labels = minibatch(test_in, test_out)\n",
    "        images = Variable(images)\n",
    "        labels = Variable(labels)\n",
    "        predictions = F.softmax(net.forward(images)).data.numpy().argmax(axis=1)\n",
    "        for a, b in zip(labels.data.numpy(), predictions):\n",
    "            if a == b:\n",
    "                correct += 1\n",
    "            else:\n",
    "                incorrect += 1\n",
    "    score = correct / float(correct + incorrect)\n",
    "    return score\n",
    "\n",
    "compute_acc()"
   ]
  },
  {
   "cell_type": "code",
   "execution_count": 100,
   "metadata": {
    "collapsed": false
   },
   "outputs": [
    {
     "name": "stdout",
     "output_type": "stream",
     "text": [
      "13% correct\n",
      "30% correct\n",
      "26% correct\n",
      "28% correct\n",
      "35% correct\n",
      "39% correct\n",
      "39% correct\n",
      "44% correct\n",
      "45% correct\n",
      "43% correct\n",
      "58% correct\n",
      "43% correct\n",
      "51% correct\n",
      "59% correct\n",
      "61% correct\n",
      "67% correct\n",
      "75% correct\n",
      "73% correct\n",
      "69% correct\n",
      "79% correct\n",
      "79% correct\n",
      "79% correct\n",
      "80% correct\n",
      "81% correct\n",
      "81% correct\n",
      "78% correct\n",
      "85% correct\n",
      "76% correct\n",
      "84% correct\n",
      "83% correct\n",
      "85% correct\n",
      "83% correct\n",
      "82% correct\n",
      "85% correct\n",
      "83% correct\n",
      "88% correct\n",
      "86% correct\n",
      "82% correct\n",
      "85% correct\n",
      "85% correct\n",
      "87% correct\n",
      "90% correct\n",
      "88% correct\n",
      "86% correct\n",
      "89% correct\n",
      "87% correct\n",
      "88% correct\n",
      "86% correct\n",
      "87% correct\n",
      "82% correct\n"
     ]
    }
   ],
   "source": [
    "for i in xrange(1000):\n",
    "    train_step()\n",
    "    if i % 20 == 0:\n",
    "        score = compute_acc()\n",
    "        print \"{}% correct\".format(int(score * 100))\n"
   ]
  },
  {
   "cell_type": "code",
   "execution_count": null,
   "metadata": {
    "collapsed": true
   },
   "outputs": [],
   "source": []
  }
 ],
 "metadata": {
  "kernelspec": {
   "display_name": "Python 2",
   "language": "python",
   "name": "python2"
  },
  "language_info": {
   "codemirror_mode": {
    "name": "ipython",
    "version": 2
   },
   "file_extension": ".py",
   "mimetype": "text/x-python",
   "name": "python",
   "nbconvert_exporter": "python",
   "pygments_lexer": "ipython2",
   "version": "2.7.12+"
  }
 },
 "nbformat": 4,
 "nbformat_minor": 2
}
