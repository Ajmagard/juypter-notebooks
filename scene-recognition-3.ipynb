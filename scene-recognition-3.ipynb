{
 "cells": [
  {
   "cell_type": "code",
   "execution_count": 1,
   "metadata": {},
   "outputs": [
    {
     "name": "stderr",
     "output_type": "stream",
     "text": [
      "Using TensorFlow backend.\n"
     ]
    }
   ],
   "source": [
    "import keras\n",
    "from keras import models, layers\n",
    "import numpy as np\n",
    "from keras.preprocessing.image import ImageDataGenerator\n",
    "import os\n",
    "from scipy.ndimage import imread\n",
    "from scipy.misc import imresize\n",
    "from nbutil import imshow_multi\n",
    "from PIL import Image\n",
    "import random"
   ]
  },
  {
   "cell_type": "code",
   "execution_count": null,
   "metadata": {
    "collapsed": true
   },
   "outputs": [],
   "source": []
  },
  {
   "cell_type": "code",
   "execution_count": 2,
   "metadata": {
    "collapsed": true
   },
   "outputs": [],
   "source": [
    "def to_pil(img):\n",
    "    if img.shape[-1] == 1:\n",
    "        img = img[:,:,0] # these are grayscale\n",
    "    return Image.fromarray(np.clip(img * 255, 0, 255).astype(np.uint8))"
   ]
  },
  {
   "cell_type": "code",
   "execution_count": 3,
   "metadata": {
    "collapsed": true
   },
   "outputs": [],
   "source": [
    "data_dir = '../data/proj6/data/15SceneData'\n",
    "categories = [c for c in os.listdir(os.path.join(data_dir, 'train')) if c[0] != '.']\n",
    "\n",
    "SIZE = 64\n",
    "\n",
    "def load_dataset(name):\n",
    "    images = []\n",
    "    labels = []\n",
    "    for cat in categories:\n",
    "        for filename in os.listdir(os.path.join(data_dir, name, cat)):\n",
    "            if filename.endswith('.jpg'): \n",
    "                path = os.path.join(data_dir, name, cat, filename)\n",
    "                image = imread(path)\n",
    "                h,w = image.shape[:2]\n",
    "                # top-left crop\n",
    "                if h > w:\n",
    "                    image = image[:w, :]\n",
    "                else:\n",
    "                    image = image[:, :h]\n",
    "                image = imresize(image, size=[SIZE, SIZE], mode='L')\n",
    "                images.append(image)\n",
    "                labels.append(categories.index(cat))\n",
    "    images = np.expand_dims(np.stack(images) / 255.0, -1)\n",
    "    labels = np.expand_dims(np.stack(labels).astype(int), -1)\n",
    "    return images, labels\n",
    "\n",
    "trainx, trainy = load_dataset('train')\n",
    "testx, testy = load_dataset('test')\n"
   ]
  },
  {
   "cell_type": "code",
   "execution_count": 4,
   "metadata": {},
   "outputs": [
    {
     "data": {
      "image/png": "[encoded data removed]",
      "text/plain": [
       "<PIL.Image.Image image mode=L size=64x64 at 0x7F1E260C7C88>"
      ]
     },
     "execution_count": 4,
     "metadata": {},
     "output_type": "execute_result"
    }
   ],
   "source": [
    "image_gen = ImageDataGenerator(rotation_range=10, \n",
    "                               zoom_range=0.2, \n",
    "                               width_shift_range=0.15, \n",
    "                               height_shift_range=0.15, \n",
    "                               horizontal_flip=True,\n",
    "                               channel_shift_range=0.15)\n",
    "# samplewise centering is broken in keras (https://github.com/fchollet/keras/issues/4047)\n",
    "# so do it manually:\n",
    "mean_img = np.mean(trainx, axis=0)\n",
    "to_pil(mean_img)"
   ]
  },
  {
   "cell_type": "code",
   "execution_count": 5,
   "metadata": {
    "collapsed": true
   },
   "outputs": [],
   "source": [
    "# for x in image_gen.flow(trainx):\n",
    "#     p = to_pil(x[0])\n",
    "#     break\n",
    "# p"
   ]
  },
  {
   "cell_type": "code",
   "execution_count": 6,
   "metadata": {},
   "outputs": [
    {
     "name": "stdout",
     "output_type": "stream",
     "text": [
      "(?, 32, 32, 32)\n",
      "(?, 16, 16, 32)\n",
      "(?, 8, 8, 32)\n",
      "(?, 4, 4, 32)\n",
      "(?, 2, 2, 32)\n",
      "(?, 1, 1, 32)\n",
      "(?, 15)\n",
      "_________________________________________________________________\n",
      "Layer (type)                 Output Shape              Param #   \n",
      "=================================================================\n",
      "input_1 (InputLayer)         (None, 64, 64, 1)         0         \n",
      "_________________________________________________________________\n",
      "conv2d_1 (Conv2D)            (None, 64, 64, 32)        320       \n",
      "_________________________________________________________________\n",
      "conv2d_2 (Conv2D)            (None, 64, 64, 32)        1056      \n",
      "_________________________________________________________________\n",
      "average_pooling2d_1 (Average (None, 32, 32, 32)        0         \n",
      "_________________________________________________________________\n",
      "batch_normalization_1 (Batch (None, 32, 32, 32)        128       \n",
      "_________________________________________________________________\n",
      "conv2d_3 (Conv2D)            (None, 32, 32, 32)        9248      \n",
      "_________________________________________________________________\n",
      "conv2d_4 (Conv2D)            (None, 32, 32, 32)        1056      \n",
      "_________________________________________________________________\n",
      "average_pooling2d_2 (Average (None, 16, 16, 32)        0         \n",
      "_________________________________________________________________\n",
      "batch_normalization_2 (Batch (None, 16, 16, 32)        128       \n",
      "_________________________________________________________________\n",
      "conv2d_5 (Conv2D)            (None, 16, 16, 32)        9248      \n",
      "_________________________________________________________________\n",
      "conv2d_6 (Conv2D)            (None, 16, 16, 32)        1056      \n",
      "_________________________________________________________________\n",
      "average_pooling2d_3 (Average (None, 8, 8, 32)          0         \n",
      "_________________________________________________________________\n",
      "batch_normalization_3 (Batch (None, 8, 8, 32)          128       \n",
      "_________________________________________________________________\n",
      "conv2d_7 (Conv2D)            (None, 8, 8, 32)          9248      \n",
      "_________________________________________________________________\n",
      "conv2d_8 (Conv2D)            (None, 8, 8, 32)          1056      \n",
      "_________________________________________________________________\n",
      "average_pooling2d_4 (Average (None, 4, 4, 32)          0         \n",
      "_________________________________________________________________\n",
      "batch_normalization_4 (Batch (None, 4, 4, 32)          128       \n",
      "_________________________________________________________________\n",
      "conv2d_9 (Conv2D)            (None, 4, 4, 32)          9248      \n",
      "_________________________________________________________________\n",
      "conv2d_10 (Conv2D)           (None, 4, 4, 32)          1056      \n",
      "_________________________________________________________________\n",
      "average_pooling2d_5 (Average (None, 2, 2, 32)          0         \n",
      "_________________________________________________________________\n",
      "batch_normalization_5 (Batch (None, 2, 2, 32)          128       \n",
      "_________________________________________________________________\n",
      "conv2d_11 (Conv2D)           (None, 2, 2, 32)          9248      \n",
      "_________________________________________________________________\n",
      "conv2d_12 (Conv2D)           (None, 2, 2, 32)          1056      \n",
      "_________________________________________________________________\n",
      "average_pooling2d_6 (Average (None, 1, 1, 32)          0         \n",
      "_________________________________________________________________\n",
      "batch_normalization_6 (Batch (None, 1, 1, 32)          128       \n",
      "_________________________________________________________________\n",
      "flatten_1 (Flatten)          (None, 32)                0         \n",
      "_________________________________________________________________\n",
      "dropout_1 (Dropout)          (None, 32)                0         \n",
      "_________________________________________________________________\n",
      "dense_1 (Dense)              (None, 60)                1980      \n",
      "_________________________________________________________________\n",
      "dense_2 (Dense)              (None, 15)                915       \n",
      "=================================================================\n",
      "Total params: 56,559\n",
      "Trainable params: 56,175\n",
      "Non-trainable params: 384\n",
      "_________________________________________________________________\n"
     ]
    }
   ],
   "source": [
    "input = layers.Input(shape=(SIZE, SIZE, 1))\n",
    "x = input\n",
    "y_dim = len(categories)\n",
    "\n",
    "l2 = keras.regularizers.l2(0.01)\n",
    "\n",
    "def conv(x, chans, ksize=3):\n",
    "    return layers.Conv2D(chans, (ksize, ksize), activation='elu', padding='SAME', kernel_regularizer=l2)(x)\n",
    "\n",
    "for chans, pooling in [(32, 2), (32, 2), (32, 2), (32, 2), (32, 2), (32, 2)]:\n",
    "    x = conv(x, chans, ksize=3)\n",
    "    x = conv(x, chans, ksize=1)\n",
    "    x = layers.AveragePooling2D((pooling, pooling), padding='SAME')(x)\n",
    "    x = layers.BatchNormalization()(x)\n",
    "    print(x.shape)\n",
    "\n",
    "x = layers.Flatten()(x)\n",
    "x = layers.Dropout(0.5)(x)\n",
    "x = layers.Dense(y_dim * 4, activation='elu', kernel_regularizer=l2)(x)\n",
    "x = layers.Dense(y_dim, activation='softmax', kernel_regularizer=l2)(x)\n",
    "print(x.shape)\n",
    "model = models.Model(inputs=[input], outputs=[x])\n",
    "\n",
    "model.compile(loss=keras.losses.sparse_categorical_crossentropy,\n",
    "              optimizer=keras.optimizers.Adam(lr=1e-3),\n",
    "              metrics=['accuracy'])\n",
    "model.summary()"
   ]
  },
  {
   "cell_type": "code",
   "execution_count": 7,
   "metadata": {},
   "outputs": [
    {
     "name": "stdout",
     "output_type": "stream",
     "text": [
      "epoch: 1, loss: 6.56304867439334, accuracy: 0.07537688442211055\n",
      "epoch: 2, loss: 6.154905528159597, accuracy: 0.05360134003350084\n",
      "epoch: 3, loss: 5.7952247605251905, accuracy: 0.05360134003350084\n",
      "epoch: 4, loss: 5.431676971013822, accuracy: 0.05527638190954774\n",
      "epoch: 5, loss: 5.206591322274264, accuracy: 0.08676716917922948\n",
      "epoch: 6, loss: 5.160378462026267, accuracy: 0.05360134003350084\n",
      "epoch: 7, loss: 4.835272204496553, accuracy: 0.06834170854271357\n",
      "epoch: 8, loss: 4.889904669181785, accuracy: 0.08777219430485762\n",
      "epoch: 9, loss: 4.3542019690700515, accuracy: 0.1068676716917923\n",
      "epoch: 10, loss: 4.171363073856987, accuracy: 0.09313232830820771\n",
      "epoch: 11, loss: 4.235477644155173, accuracy: 0.06063651591289782\n",
      "epoch: 12, loss: 4.1098382291682, accuracy: 0.10485762144053601\n",
      "epoch: 13, loss: 3.3499705605371113, accuracy: 0.21574539363484088\n",
      "epoch: 14, loss: 3.3028523943532053, accuracy: 0.18425460636515914\n",
      "epoch: 15, loss: 3.120438038843561, accuracy: 0.23618090452510906\n",
      "epoch: 16, loss: 2.982043044970463, accuracy: 0.26063651591788983\n",
      "epoch: 17, loss: 2.69586976584877, accuracy: 0.36046901173028517\n",
      "epoch: 18, loss: 2.6609285172505595, accuracy: 0.32060301507787287\n",
      "epoch: 19, loss: 2.610363294131792, accuracy: 0.32964824120852615\n",
      "epoch: 20, loss: 2.539854181711398, accuracy: 0.3675041876071861\n",
      "epoch: 21, loss: 2.3901766197964975, accuracy: 0.39162479064971756\n",
      "epoch: 22, loss: 2.416223506272538, accuracy: 0.3969849246330996\n",
      "epoch: 23, loss: 2.297608337370395, accuracy: 0.42378559464985005\n",
      "epoch: 24, loss: 2.3373527720146243, accuracy: 0.3946398660016419\n",
      "epoch: 25, loss: 2.510323099634755, accuracy: 0.2897822445586099\n",
      "epoch: 26, loss: 2.3696343919539973, accuracy: 0.34505862647065366\n",
      "epoch: 27, loss: 2.6403235552099282, accuracy: 0.2606365159128978\n",
      "epoch: 28, loss: 2.2105084215576327, accuracy: 0.39966499162978264\n",
      "epoch: 29, loss: 2.42097242920842, accuracy: 0.33768844221604727\n",
      "epoch: 30, loss: 2.0192538620039846, accuracy: 0.4646566164154104\n",
      "epoch: 31, loss: 2.081677273889283, accuracy: 0.43651591297769465\n",
      "epoch: 32, loss: 2.2365398664969693, accuracy: 0.3835845896197324\n",
      "epoch: 33, loss: 2.0211693988972574, accuracy: 0.4606365159428499\n",
      "epoch: 34, loss: 2.08092322732935, accuracy: 0.4499162479161817\n",
      "epoch: 35, loss: 2.074244519813576, accuracy: 0.41909547741688674\n",
      "epoch: 36, loss: 2.0765244257909368, accuracy: 0.393634840950894\n",
      "epoch: 37, loss: 1.959520148112746, accuracy: 0.4820770519287942\n",
      "epoch: 38, loss: 2.1248940431093253, accuracy: 0.3675041876071861\n",
      "epoch: 39, loss: 1.906844393731761, accuracy: 0.47135678399947023\n",
      "epoch: 40, loss: 1.9912051207256476, accuracy: 0.4505862646865685\n",
      "epoch: 41, loss: 1.9791353120276676, accuracy: 0.4301507537713402\n",
      "epoch: 42, loss: 2.1090493731762296, accuracy: 0.41474036851919677\n",
      "epoch: 43, loss: 1.8508742711052824, accuracy: 0.4921273032225157\n",
      "epoch: 44, loss: 2.0041796363178808, accuracy: 0.4469011725392973\n",
      "epoch: 45, loss: 2.0820230366596624, accuracy: 0.3819095478185657\n",
      "epoch: 46, loss: 1.8962650655701732, accuracy: 0.46800670022740837\n",
      "epoch: 47, loss: 1.8860405094459827, accuracy: 0.4636515912997663\n",
      "epoch: 48, loss: 1.9585007360033453, accuracy: 0.4562814071150481\n",
      "epoch: 49, loss: 1.8781578615083168, accuracy: 0.4566164154403373\n",
      "epoch: 50, loss: 1.9936943907234537, accuracy: 0.432495812435246\n",
      "epoch: 51, loss: 1.918169409945183, accuracy: 0.4686767169778271\n",
      "epoch: 52, loss: 1.7593635621382364, accuracy: 0.5296482412859024\n",
      "epoch: 53, loss: 1.902581113906362, accuracy: 0.4770519263580616\n",
      "epoch: 54, loss: 1.8275645811953136, accuracy: 0.4737018425560477\n",
      "epoch: 55, loss: 1.9260705596438206, accuracy: 0.4479061977148455\n",
      "epoch: 56, loss: 1.8913791079816706, accuracy: 0.4800670017549141\n",
      "epoch: 57, loss: 1.8427023130445623, accuracy: 0.4733668342307584\n",
      "epoch: 58, loss: 1.8385376219374052, accuracy: 0.4817420435535848\n",
      "epoch: 59, loss: 1.8965835788541503, accuracy: 0.44288107205675276\n",
      "epoch: 60, loss: 1.8328418333127072, accuracy: 0.5075376885220833\n",
      "epoch: 61, loss: 1.7469190319978212, accuracy: 0.5128978225054653\n",
      "epoch: 62, loss: 1.8709603561228842, accuracy: 0.46867671692041896\n",
      "epoch: 63, loss: 1.9580857670686553, accuracy: 0.4726968174204355\n",
      "epoch: 64, loss: 1.8987158180281545, accuracy: 0.4716917922997994\n",
      "epoch: 65, loss: 4.101416925050106, accuracy: 0.12127303182579564\n",
      "epoch: 66, loss: 1.893922894883595, accuracy: 0.46968174205353513\n",
      "epoch: 67, loss: 1.8275704336725487, accuracy: 0.4840871021875385\n",
      "epoch: 68, loss: 1.9530704961549896, accuracy: 0.45996649916247906\n"
     ]
    },
    {
     "ename": "KeyboardInterrupt",
     "evalue": "",
     "output_type": "error",
     "traceback": [
      "\u001b[0;31m---------------------------------------------------------------------------\u001b[0m",
      "\u001b[0;31mKeyboardInterrupt\u001b[0m                         Traceback (most recent call last)",
      "\u001b[0;32m<ipython-input-7-cbb06049a74d>\u001b[0m in \u001b[0;36m<module>\u001b[0;34m()\u001b[0m\n\u001b[1;32m     12\u001b[0m                        \u001b[0mverbose\u001b[0m\u001b[0;34m=\u001b[0m\u001b[0;36m0\u001b[0m\u001b[0;34m,\u001b[0m\u001b[0;34m\u001b[0m\u001b[0m\n\u001b[1;32m     13\u001b[0m                        \u001b[0mworkers\u001b[0m\u001b[0;34m=\u001b[0m\u001b[0;36m2\u001b[0m\u001b[0;34m,\u001b[0m\u001b[0;34m\u001b[0m\u001b[0m\n\u001b[0;32m---> 14\u001b[0;31m                        epochs=1)\n\u001b[0m\u001b[1;32m     15\u001b[0m     \u001b[0;32mif\u001b[0m \u001b[0mi\u001b[0m \u001b[0;34m%\u001b[0m \u001b[0;36m1\u001b[0m \u001b[0;34m==\u001b[0m \u001b[0;36m0\u001b[0m\u001b[0;34m:\u001b[0m\u001b[0;34m\u001b[0m\u001b[0m\n\u001b[1;32m     16\u001b[0m         \u001b[0mscore\u001b[0m \u001b[0;34m=\u001b[0m \u001b[0mmodel\u001b[0m\u001b[0;34m.\u001b[0m\u001b[0mevaluate\u001b[0m\u001b[0;34m(\u001b[0m\u001b[0mtestx\u001b[0m \u001b[0;34m-\u001b[0m \u001b[0mmean_img\u001b[0m\u001b[0;34m,\u001b[0m \u001b[0mtesty\u001b[0m\u001b[0;34m,\u001b[0m \u001b[0mverbose\u001b[0m\u001b[0;34m=\u001b[0m\u001b[0;36m0\u001b[0m\u001b[0;34m)\u001b[0m\u001b[0;34m\u001b[0m\u001b[0m\n",
      "\u001b[0;32m/usr/local/lib/python3.5/dist-packages/keras/legacy/interfaces.py\u001b[0m in \u001b[0;36mwrapper\u001b[0;34m(*args, **kwargs)\u001b[0m\n\u001b[1;32m     86\u001b[0m                 warnings.warn('Update your `' + object_name +\n\u001b[1;32m     87\u001b[0m                               '` call to the Keras 2 API: ' + signature, stacklevel=2)\n\u001b[0;32m---> 88\u001b[0;31m             \u001b[0;32mreturn\u001b[0m \u001b[0mfunc\u001b[0m\u001b[0;34m(\u001b[0m\u001b[0;34m*\u001b[0m\u001b[0margs\u001b[0m\u001b[0;34m,\u001b[0m \u001b[0;34m**\u001b[0m\u001b[0mkwargs\u001b[0m\u001b[0;34m)\u001b[0m\u001b[0;34m\u001b[0m\u001b[0m\n\u001b[0m\u001b[1;32m     89\u001b[0m         \u001b[0mwrapper\u001b[0m\u001b[0;34m.\u001b[0m\u001b[0m_legacy_support_signature\u001b[0m \u001b[0;34m=\u001b[0m \u001b[0minspect\u001b[0m\u001b[0;34m.\u001b[0m\u001b[0mgetargspec\u001b[0m\u001b[0;34m(\u001b[0m\u001b[0mfunc\u001b[0m\u001b[0;34m)\u001b[0m\u001b[0;34m\u001b[0m\u001b[0m\n\u001b[1;32m     90\u001b[0m         \u001b[0;32mreturn\u001b[0m \u001b[0mwrapper\u001b[0m\u001b[0;34m\u001b[0m\u001b[0m\n",
      "\u001b[0;32m/usr/local/lib/python3.5/dist-packages/keras/engine/training.py\u001b[0m in \u001b[0;36mfit_generator\u001b[0;34m(self, generator, steps_per_epoch, epochs, verbose, callbacks, validation_data, validation_steps, class_weight, max_q_size, workers, pickle_safe, initial_epoch)\u001b[0m\n\u001b[1;32m   1875\u001b[0m                     outs = self.train_on_batch(x, y,\n\u001b[1;32m   1876\u001b[0m                                                \u001b[0msample_weight\u001b[0m\u001b[0;34m=\u001b[0m\u001b[0msample_weight\u001b[0m\u001b[0;34m,\u001b[0m\u001b[0;34m\u001b[0m\u001b[0m\n\u001b[0;32m-> 1877\u001b[0;31m                                                class_weight=class_weight)\n\u001b[0m\u001b[1;32m   1878\u001b[0m \u001b[0;34m\u001b[0m\u001b[0m\n\u001b[1;32m   1879\u001b[0m                     \u001b[0;32mif\u001b[0m \u001b[0;32mnot\u001b[0m \u001b[0misinstance\u001b[0m\u001b[0;34m(\u001b[0m\u001b[0mouts\u001b[0m\u001b[0;34m,\u001b[0m \u001b[0mlist\u001b[0m\u001b[0;34m)\u001b[0m\u001b[0;34m:\u001b[0m\u001b[0;34m\u001b[0m\u001b[0m\n",
      "\u001b[0;32m/usr/local/lib/python3.5/dist-packages/keras/engine/training.py\u001b[0m in \u001b[0;36mtrain_on_batch\u001b[0;34m(self, x, y, sample_weight, class_weight)\u001b[0m\n\u001b[1;32m   1619\u001b[0m             \u001b[0mins\u001b[0m \u001b[0;34m=\u001b[0m \u001b[0mx\u001b[0m \u001b[0;34m+\u001b[0m \u001b[0my\u001b[0m \u001b[0;34m+\u001b[0m \u001b[0msample_weights\u001b[0m\u001b[0;34m\u001b[0m\u001b[0m\n\u001b[1;32m   1620\u001b[0m         \u001b[0mself\u001b[0m\u001b[0;34m.\u001b[0m\u001b[0m_make_train_function\u001b[0m\u001b[0;34m(\u001b[0m\u001b[0;34m)\u001b[0m\u001b[0;34m\u001b[0m\u001b[0m\n\u001b[0;32m-> 1621\u001b[0;31m         \u001b[0moutputs\u001b[0m \u001b[0;34m=\u001b[0m \u001b[0mself\u001b[0m\u001b[0;34m.\u001b[0m\u001b[0mtrain_function\u001b[0m\u001b[0;34m(\u001b[0m\u001b[0mins\u001b[0m\u001b[0;34m)\u001b[0m\u001b[0;34m\u001b[0m\u001b[0m\n\u001b[0m\u001b[1;32m   1622\u001b[0m         \u001b[0;32mif\u001b[0m \u001b[0mlen\u001b[0m\u001b[0;34m(\u001b[0m\u001b[0moutputs\u001b[0m\u001b[0;34m)\u001b[0m \u001b[0;34m==\u001b[0m \u001b[0;36m1\u001b[0m\u001b[0;34m:\u001b[0m\u001b[0;34m\u001b[0m\u001b[0m\n\u001b[1;32m   1623\u001b[0m             \u001b[0;32mreturn\u001b[0m \u001b[0moutputs\u001b[0m\u001b[0;34m[\u001b[0m\u001b[0;36m0\u001b[0m\u001b[0;34m]\u001b[0m\u001b[0;34m\u001b[0m\u001b[0m\n",
      "\u001b[0;32m/usr/local/lib/python3.5/dist-packages/keras/backend/tensorflow_backend.py\u001b[0m in \u001b[0;36m__call__\u001b[0;34m(self, inputs)\u001b[0m\n\u001b[1;32m   2101\u001b[0m         \u001b[0msession\u001b[0m \u001b[0;34m=\u001b[0m \u001b[0mget_session\u001b[0m\u001b[0;34m(\u001b[0m\u001b[0;34m)\u001b[0m\u001b[0;34m\u001b[0m\u001b[0m\n\u001b[1;32m   2102\u001b[0m         updated = session.run(self.outputs + [self.updates_op],\n\u001b[0;32m-> 2103\u001b[0;31m                               feed_dict=feed_dict)\n\u001b[0m\u001b[1;32m   2104\u001b[0m         \u001b[0;32mreturn\u001b[0m \u001b[0mupdated\u001b[0m\u001b[0;34m[\u001b[0m\u001b[0;34m:\u001b[0m\u001b[0mlen\u001b[0m\u001b[0;34m(\u001b[0m\u001b[0mself\u001b[0m\u001b[0;34m.\u001b[0m\u001b[0moutputs\u001b[0m\u001b[0;34m)\u001b[0m\u001b[0;34m]\u001b[0m\u001b[0;34m\u001b[0m\u001b[0m\n\u001b[1;32m   2105\u001b[0m \u001b[0;34m\u001b[0m\u001b[0m\n",
      "\u001b[0;32m/usr/local/lib/python3.5/dist-packages/tensorflow/python/client/session.py\u001b[0m in \u001b[0;36mrun\u001b[0;34m(self, fetches, feed_dict, options, run_metadata)\u001b[0m\n\u001b[1;32m    776\u001b[0m     \u001b[0;32mtry\u001b[0m\u001b[0;34m:\u001b[0m\u001b[0;34m\u001b[0m\u001b[0m\n\u001b[1;32m    777\u001b[0m       result = self._run(None, fetches, feed_dict, options_ptr,\n\u001b[0;32m--> 778\u001b[0;31m                          run_metadata_ptr)\n\u001b[0m\u001b[1;32m    779\u001b[0m       \u001b[0;32mif\u001b[0m \u001b[0mrun_metadata\u001b[0m\u001b[0;34m:\u001b[0m\u001b[0;34m\u001b[0m\u001b[0m\n\u001b[1;32m    780\u001b[0m         \u001b[0mproto_data\u001b[0m \u001b[0;34m=\u001b[0m \u001b[0mtf_session\u001b[0m\u001b[0;34m.\u001b[0m\u001b[0mTF_GetBuffer\u001b[0m\u001b[0;34m(\u001b[0m\u001b[0mrun_metadata_ptr\u001b[0m\u001b[0;34m)\u001b[0m\u001b[0;34m\u001b[0m\u001b[0m\n",
      "\u001b[0;32m/usr/local/lib/python3.5/dist-packages/tensorflow/python/client/session.py\u001b[0m in \u001b[0;36m_run\u001b[0;34m(self, handle, fetches, feed_dict, options, run_metadata)\u001b[0m\n\u001b[1;32m    980\u001b[0m     \u001b[0;32mif\u001b[0m \u001b[0mfinal_fetches\u001b[0m \u001b[0;32mor\u001b[0m \u001b[0mfinal_targets\u001b[0m\u001b[0;34m:\u001b[0m\u001b[0;34m\u001b[0m\u001b[0m\n\u001b[1;32m    981\u001b[0m       results = self._do_run(handle, final_targets, final_fetches,\n\u001b[0;32m--> 982\u001b[0;31m                              feed_dict_string, options, run_metadata)\n\u001b[0m\u001b[1;32m    983\u001b[0m     \u001b[0;32melse\u001b[0m\u001b[0;34m:\u001b[0m\u001b[0;34m\u001b[0m\u001b[0m\n\u001b[1;32m    984\u001b[0m       \u001b[0mresults\u001b[0m \u001b[0;34m=\u001b[0m \u001b[0;34m[\u001b[0m\u001b[0;34m]\u001b[0m\u001b[0;34m\u001b[0m\u001b[0m\n",
      "\u001b[0;32m/usr/local/lib/python3.5/dist-packages/tensorflow/python/client/session.py\u001b[0m in \u001b[0;36m_do_run\u001b[0;34m(self, handle, target_list, fetch_list, feed_dict, options, run_metadata)\u001b[0m\n\u001b[1;32m   1030\u001b[0m     \u001b[0;32mif\u001b[0m \u001b[0mhandle\u001b[0m \u001b[0;32mis\u001b[0m \u001b[0;32mNone\u001b[0m\u001b[0;34m:\u001b[0m\u001b[0;34m\u001b[0m\u001b[0m\n\u001b[1;32m   1031\u001b[0m       return self._do_call(_run_fn, self._session, feed_dict, fetch_list,\n\u001b[0;32m-> 1032\u001b[0;31m                            target_list, options, run_metadata)\n\u001b[0m\u001b[1;32m   1033\u001b[0m     \u001b[0;32melse\u001b[0m\u001b[0;34m:\u001b[0m\u001b[0;34m\u001b[0m\u001b[0m\n\u001b[1;32m   1034\u001b[0m       return self._do_call(_prun_fn, self._session, handle, feed_dict,\n",
      "\u001b[0;32m/usr/local/lib/python3.5/dist-packages/tensorflow/python/client/session.py\u001b[0m in \u001b[0;36m_do_call\u001b[0;34m(self, fn, *args)\u001b[0m\n\u001b[1;32m   1037\u001b[0m   \u001b[0;32mdef\u001b[0m \u001b[0m_do_call\u001b[0m\u001b[0;34m(\u001b[0m\u001b[0mself\u001b[0m\u001b[0;34m,\u001b[0m \u001b[0mfn\u001b[0m\u001b[0;34m,\u001b[0m \u001b[0;34m*\u001b[0m\u001b[0margs\u001b[0m\u001b[0;34m)\u001b[0m\u001b[0;34m:\u001b[0m\u001b[0;34m\u001b[0m\u001b[0m\n\u001b[1;32m   1038\u001b[0m     \u001b[0;32mtry\u001b[0m\u001b[0;34m:\u001b[0m\u001b[0;34m\u001b[0m\u001b[0m\n\u001b[0;32m-> 1039\u001b[0;31m       \u001b[0;32mreturn\u001b[0m \u001b[0mfn\u001b[0m\u001b[0;34m(\u001b[0m\u001b[0;34m*\u001b[0m\u001b[0margs\u001b[0m\u001b[0;34m)\u001b[0m\u001b[0;34m\u001b[0m\u001b[0m\n\u001b[0m\u001b[1;32m   1040\u001b[0m     \u001b[0;32mexcept\u001b[0m \u001b[0merrors\u001b[0m\u001b[0;34m.\u001b[0m\u001b[0mOpError\u001b[0m \u001b[0;32mas\u001b[0m \u001b[0me\u001b[0m\u001b[0;34m:\u001b[0m\u001b[0;34m\u001b[0m\u001b[0m\n\u001b[1;32m   1041\u001b[0m       \u001b[0mmessage\u001b[0m \u001b[0;34m=\u001b[0m \u001b[0mcompat\u001b[0m\u001b[0;34m.\u001b[0m\u001b[0mas_text\u001b[0m\u001b[0;34m(\u001b[0m\u001b[0me\u001b[0m\u001b[0;34m.\u001b[0m\u001b[0mmessage\u001b[0m\u001b[0;34m)\u001b[0m\u001b[0;34m\u001b[0m\u001b[0m\n",
      "\u001b[0;32m/usr/local/lib/python3.5/dist-packages/tensorflow/python/client/session.py\u001b[0m in \u001b[0;36m_run_fn\u001b[0;34m(session, feed_dict, fetch_list, target_list, options, run_metadata)\u001b[0m\n\u001b[1;32m   1019\u001b[0m         return tf_session.TF_Run(session, options,\n\u001b[1;32m   1020\u001b[0m                                  \u001b[0mfeed_dict\u001b[0m\u001b[0;34m,\u001b[0m \u001b[0mfetch_list\u001b[0m\u001b[0;34m,\u001b[0m \u001b[0mtarget_list\u001b[0m\u001b[0;34m,\u001b[0m\u001b[0;34m\u001b[0m\u001b[0m\n\u001b[0;32m-> 1021\u001b[0;31m                                  status, run_metadata)\n\u001b[0m\u001b[1;32m   1022\u001b[0m \u001b[0;34m\u001b[0m\u001b[0m\n\u001b[1;32m   1023\u001b[0m     \u001b[0;32mdef\u001b[0m \u001b[0m_prun_fn\u001b[0m\u001b[0;34m(\u001b[0m\u001b[0msession\u001b[0m\u001b[0;34m,\u001b[0m \u001b[0mhandle\u001b[0m\u001b[0;34m,\u001b[0m \u001b[0mfeed_dict\u001b[0m\u001b[0;34m,\u001b[0m \u001b[0mfetch_list\u001b[0m\u001b[0;34m)\u001b[0m\u001b[0;34m:\u001b[0m\u001b[0;34m\u001b[0m\u001b[0m\n",
      "\u001b[0;31mKeyboardInterrupt\u001b[0m: "
     ]
    }
   ],
   "source": [
    "# at epoch 53: loss: 1.3118601918819561, accuracy: 0.6830820771118304\n",
    "\n",
    "batch_size = 32\n",
    "\n",
    "for i in range(80):\n",
    "    lr = 1e-4\n",
    "    if i > 50:\n",
    "        lr = 1e-4/2\n",
    "    model.optimizer.lr.assign(lr)\n",
    "    model.fit_generator(image_gen.flow(trainx - mean_img, trainy, batch_size=batch_size),\n",
    "                       steps_per_epoch=len(trainx)/batch_size,\n",
    "                       verbose=0,\n",
    "                       workers=2,\n",
    "                       epochs=1)\n",
    "    if i % 1 == 0:\n",
    "        score = model.evaluate(testx - mean_img, testy, verbose=0)\n",
    "        print('epoch: {}, loss: {}, accuracy: {}'.format(i+1, score[0], score[1]))"
   ]
  },
  {
   "cell_type": "code",
   "execution_count": null,
   "metadata": {},
   "outputs": [],
   "source": [
    "score = model.evaluate(testx, testy, verbose=0)\n",
    "print 'accuracy: {}'.format(score[1])"
   ]
  },
  {
   "cell_type": "code",
   "execution_count": null,
   "metadata": {
    "collapsed": true
   },
   "outputs": [],
   "source": []
  }
 ],
 "metadata": {
  "kernelspec": {
   "display_name": "Python 3",
   "language": "python",
   "name": "python3"
  },
  "language_info": {
   "codemirror_mode": {
    "name": "ipython",
    "version": 3
   },
   "file_extension": ".py",
   "mimetype": "text/x-python",
   "name": "python",
   "nbconvert_exporter": "python",
   "pygments_lexer": "ipython3",
   "version": "3.5.2"
  }
 },
 "nbformat": 4,
 "nbformat_minor": 2
}
