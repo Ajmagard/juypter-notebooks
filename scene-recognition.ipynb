{
 "cells": [
  {
   "cell_type": "code",
   "execution_count": 1,
   "metadata": {
    "collapsed": false
   },
   "outputs": [
    {
     "name": "stderr",
     "output_type": "stream",
     "text": [
      "Using TensorFlow backend.\n"
     ]
    }
   ],
   "source": [
    "import keras\n",
    "from keras import models, layers\n",
    "import numpy as np\n",
    "from keras.preprocessing.image import ImageDataGenerator\n",
    "import os\n",
    "from scipy.ndimage import imread\n",
    "from scipy.misc import imresize\n",
    "from nbutil import imshow_multi"
   ]
  },
  {
   "cell_type": "code",
   "execution_count": 24,
   "metadata": {
    "collapsed": false
   },
   "outputs": [],
   "source": [
    "dir = '/Users/nateparrott/Documents/School/cv/proj4/data'\n",
    "\n",
    "categories = [c for c in os.listdir(os.path.join(dir, 'train')) if c[0] != '.']\n",
    "\n",
    "SIZE = 32\n",
    "\n",
    "def load_dataset(name):\n",
    "    images = []\n",
    "    labels = []\n",
    "    for cat in categories:\n",
    "        for filename in os.listdir(os.path.join(dir, name, cat)):\n",
    "            if filename.endswith('.jpg'): \n",
    "                path = os.path.join(dir, name, cat, filename)\n",
    "                image = imresize(imread(path), size=[SIZE, SIZE], mode='L')\n",
    "                images.append(image)\n",
    "                labels.append(categories.index(cat))\n",
    "    images = np.expand_dims(np.stack(images) / 255.0, -1)\n",
    "    labels = np.expand_dims(np.stack(labels).astype(int), -1)\n",
    "    return images, labels\n",
    "\n",
    "trainx, trainy = load_dataset('train')\n",
    "testx, testy = load_dataset('test')\n"
   ]
  },
  {
   "cell_type": "code",
   "execution_count": 3,
   "metadata": {
    "collapsed": false
   },
   "outputs": [
    {
     "name": "stdout",
     "output_type": "stream",
     "text": [
      "15\n"
     ]
    }
   ],
   "source": []
  },
  {
   "cell_type": "code",
   "execution_count": 18,
   "metadata": {
    "collapsed": true
   },
   "outputs": [],
   "source": [
    "image_gen = ImageDataGenerator(rotation_range=10, \n",
    "                               zoom_range=0.2, \n",
    "                               width_shift_range=0.1, \n",
    "                               height_shift_range=0.1, \n",
    "                               horizontal_flip=True,\n",
    "                               channel_shift_range=0.1)\n"
   ]
  },
  {
   "cell_type": "code",
   "execution_count": 30,
   "metadata": {
    "collapsed": false
   },
   "outputs": [
    {
     "data": {
      "image/png": "[encoded data removed]",
      "text/plain": [
       "<matplotlib.figure.Figure at 0x1157b8fd0>"
      ]
     },
     "metadata": {},
     "output_type": "display_data"
    },
    {
     "name": "stdout",
     "output_type": "stream",
     "text": [
      "15\n"
     ]
    }
   ],
   "source": [
    "%matplotlib inline\n",
    "for images, _ in image_gen.flow(trainx, trainy, batch_size=3):\n",
    "    imshow_multi(images[:,:,:,0])\n",
    "    break\n",
    "print len(categories)\n"
   ]
  },
  {
   "cell_type": "code",
   "execution_count": 31,
   "metadata": {
    "collapsed": false
   },
   "outputs": [
    {
     "name": "stdout",
     "output_type": "stream",
     "text": [
      "_________________________________________________________________\n",
      "Layer (type)                 Output Shape              Param #   \n",
      "=================================================================\n",
      "conv2d_17 (Conv2D)           (None, 32, 32, 32)        320       \n",
      "_________________________________________________________________\n",
      "dropout_17 (Dropout)         (None, 32, 32, 32)        0         \n",
      "_________________________________________________________________\n",
      "max_pooling2d_13 (MaxPooling (None, 16, 16, 32)        0         \n",
      "_________________________________________________________________\n",
      "batch_normalization_19 (Batc (None, 16, 16, 32)        128       \n",
      "_________________________________________________________________\n",
      "conv2d_18 (Conv2D)           (None, 16, 16, 64)        18496     \n",
      "_________________________________________________________________\n",
      "dropout_18 (Dropout)         (None, 16, 16, 64)        0         \n",
      "_________________________________________________________________\n",
      "max_pooling2d_14 (MaxPooling (None, 8, 8, 64)          0         \n",
      "_________________________________________________________________\n",
      "batch_normalization_20 (Batc (None, 8, 8, 64)          256       \n",
      "_________________________________________________________________\n",
      "conv2d_19 (Conv2D)           (None, 8, 8, 64)          36928     \n",
      "_________________________________________________________________\n",
      "dropout_19 (Dropout)         (None, 8, 8, 64)          0         \n",
      "_________________________________________________________________\n",
      "max_pooling2d_15 (MaxPooling (None, 4, 4, 64)          0         \n",
      "_________________________________________________________________\n",
      "batch_normalization_21 (Batc (None, 4, 4, 64)          256       \n",
      "_________________________________________________________________\n",
      "conv2d_20 (Conv2D)           (None, 4, 4, 64)          36928     \n",
      "_________________________________________________________________\n",
      "dropout_20 (Dropout)         (None, 4, 4, 64)          0         \n",
      "_________________________________________________________________\n",
      "max_pooling2d_16 (MaxPooling (None, 2, 2, 64)          0         \n",
      "_________________________________________________________________\n",
      "batch_normalization_22 (Batc (None, 2, 2, 64)          256       \n",
      "_________________________________________________________________\n",
      "conv2d_21 (Conv2D)           (None, 2, 2, 128)         73856     \n",
      "_________________________________________________________________\n",
      "dropout_21 (Dropout)         (None, 2, 2, 128)         0         \n",
      "_________________________________________________________________\n",
      "max_pooling2d_17 (MaxPooling (None, 1, 1, 128)         0         \n",
      "_________________________________________________________________\n",
      "batch_normalization_23 (Batc (None, 1, 1, 128)         512       \n",
      "_________________________________________________________________\n",
      "flatten_5 (Flatten)          (None, 128)               0         \n",
      "_________________________________________________________________\n",
      "dense_9 (Dense)              (None, 15)                1935      \n",
      "=================================================================\n",
      "Total params: 169,871.0\n",
      "Trainable params: 169,167.0\n",
      "Non-trainable params: 704.0\n",
      "_________________________________________________________________\n"
     ]
    }
   ],
   "source": [
    "model = models.Sequential()\n",
    "prev_channels = 1\n",
    "for i, channels in enumerate([32, 64, 64, 64, 128]):\n",
    "    in_size = [SIZE / (2 ** i), SIZE / (2 ** i), prev_channels]\n",
    "    model.add(layers.Conv2D(channels, input_shape=in_size, activation='relu', padding='same', kernel_size=(3,3)))\n",
    "    prev_channels = channels\n",
    "    model.add(layers.Dropout(0.3))\n",
    "    model.add(layers.MaxPooling2D(pool_size=(2,2)))\n",
    "    model.add(layers.BatchNormalization())\n",
    "model.add(layers.Flatten())\n",
    "model.add(layers.Dense(len(categories), activation='softmax'))\n",
    "model.compile(loss=keras.losses.sparse_categorical_crossentropy,\n",
    "              optimizer=keras.optimizers.Adam(),\n",
    "              metrics=['accuracy'])\n",
    "model.summary()"
   ]
  },
  {
   "cell_type": "code",
   "execution_count": 32,
   "metadata": {
    "collapsed": false
   },
   "outputs": [
    {
     "name": "stdout",
     "output_type": "stream",
     "text": [
      "Epoch 1/40\n",
      "17s - loss: 2.8814 - acc: 0.1630 - val_loss: 2.7025 - val_acc: 0.0834\n",
      "Epoch 2/40\n",
      "13s - loss: 2.3999 - acc: 0.2526 - val_loss: 2.7394 - val_acc: 0.0764\n",
      "Epoch 3/40\n",
      "13s - loss: 2.2078 - acc: 0.3086 - val_loss: 2.9290 - val_acc: 0.0764\n",
      "Epoch 4/40\n",
      "14s - loss: 2.1677 - acc: 0.3121 - val_loss: 2.9002 - val_acc: 0.0764\n",
      "Epoch 5/40\n",
      "14s - loss: 1.9988 - acc: 0.3635 - val_loss: 2.8922 - val_acc: 0.0764\n",
      "Epoch 6/40\n",
      "15s - loss: 1.9914 - acc: 0.3588 - val_loss: 2.9467 - val_acc: 0.0764\n",
      "Epoch 7/40\n",
      "15s - loss: 1.8237 - acc: 0.3933 - val_loss: 3.0332 - val_acc: 0.0767\n",
      "Epoch 8/40\n",
      "15s - loss: 1.8392 - acc: 0.3894 - val_loss: 2.9226 - val_acc: 0.0868\n",
      "Epoch 9/40\n",
      "14s - loss: 1.7795 - acc: 0.4137 - val_loss: 2.9454 - val_acc: 0.1648\n",
      "Epoch 10/40\n",
      "14s - loss: 1.7093 - acc: 0.4381 - val_loss: 3.0145 - val_acc: 0.1039\n",
      "Epoch 11/40\n",
      "14s - loss: 1.6893 - acc: 0.4423 - val_loss: 2.8286 - val_acc: 0.1631\n",
      "Epoch 12/40\n",
      "14s - loss: 1.5826 - acc: 0.4689 - val_loss: 2.9912 - val_acc: 0.1136\n",
      "Epoch 13/40\n",
      "16s - loss: 1.6507 - acc: 0.4654 - val_loss: 2.7302 - val_acc: 0.1796\n",
      "Epoch 14/40\n",
      "15s - loss: 1.5300 - acc: 0.4867 - val_loss: 2.4815 - val_acc: 0.1943\n",
      "Epoch 15/40\n",
      "21s - loss: 1.5763 - acc: 0.4789 - val_loss: 2.4291 - val_acc: 0.2278\n",
      "Epoch 16/40\n",
      "23s - loss: 1.5319 - acc: 0.4971 - val_loss: 2.4307 - val_acc: 0.2107\n",
      "Epoch 17/40\n",
      "15s - loss: 1.4774 - acc: 0.5057 - val_loss: 2.2573 - val_acc: 0.2198\n",
      "Epoch 18/40\n",
      "15s - loss: 1.4370 - acc: 0.5172 - val_loss: 2.1602 - val_acc: 0.2412\n",
      "Epoch 19/40\n",
      "16s - loss: 1.4310 - acc: 0.5343 - val_loss: 2.1823 - val_acc: 0.2851\n",
      "Epoch 20/40\n",
      "20s - loss: 1.4054 - acc: 0.5348 - val_loss: 2.3092 - val_acc: 0.2117\n",
      "Epoch 21/40\n",
      "26s - loss: 1.3851 - acc: 0.5368 - val_loss: 2.2025 - val_acc: 0.2673\n",
      "Epoch 22/40\n",
      "25s - loss: 1.3548 - acc: 0.5450 - val_loss: 2.3527 - val_acc: 0.2492\n",
      "Epoch 23/40\n",
      "20s - loss: 1.3368 - acc: 0.5397 - val_loss: 2.2384 - val_acc: 0.2637\n",
      "Epoch 24/40\n",
      "14s - loss: 1.3557 - acc: 0.5252 - val_loss: 2.2292 - val_acc: 0.2650\n",
      "Epoch 25/40\n",
      "16s - loss: 1.2991 - acc: 0.5775 - val_loss: 2.1542 - val_acc: 0.3018\n",
      "Epoch 26/40\n",
      "15s - loss: 1.2661 - acc: 0.5603 - val_loss: 2.3623 - val_acc: 0.2476\n",
      "Epoch 27/40\n",
      "15s - loss: 1.2852 - acc: 0.5642 - val_loss: 2.4314 - val_acc: 0.2114\n",
      "Epoch 28/40\n",
      "16s - loss: 1.2243 - acc: 0.5963 - val_loss: 2.4919 - val_acc: 0.2436\n",
      "Epoch 29/40\n",
      "15s - loss: 1.2636 - acc: 0.5841 - val_loss: 2.1991 - val_acc: 0.2851\n",
      "Epoch 30/40\n",
      "15s - loss: 1.2385 - acc: 0.5842 - val_loss: 2.2669 - val_acc: 0.2503\n",
      "Epoch 31/40\n",
      "15s - loss: 1.2015 - acc: 0.5920 - val_loss: 2.4397 - val_acc: 0.2402\n",
      "Epoch 32/40\n",
      "14s - loss: 1.1861 - acc: 0.5961 - val_loss: 2.3967 - val_acc: 0.2332\n",
      "Epoch 33/40\n",
      "15s - loss: 1.1989 - acc: 0.5872 - val_loss: 2.4599 - val_acc: 0.2318\n",
      "Epoch 34/40\n",
      "135s - loss: 1.1480 - acc: 0.6238 - val_loss: 2.1880 - val_acc: 0.2687\n",
      "Epoch 35/40\n",
      "16s - loss: 1.1257 - acc: 0.6245 - val_loss: 2.1744 - val_acc: 0.2827\n",
      "Epoch 36/40\n",
      "12s - loss: 1.1378 - acc: 0.6110 - val_loss: 2.0130 - val_acc: 0.3477\n",
      "Epoch 37/40\n",
      "13s - loss: 1.1245 - acc: 0.6219 - val_loss: 2.9279 - val_acc: 0.1045\n",
      "Epoch 38/40\n",
      "13s - loss: 1.1242 - acc: 0.6172 - val_loss: 2.2286 - val_acc: 0.3022\n",
      "Epoch 39/40\n",
      "14s - loss: 1.0539 - acc: 0.6405 - val_loss: 2.1735 - val_acc: 0.3049\n",
      "Epoch 40/40\n",
      "13s - loss: 1.1080 - acc: 0.6151 - val_loss: 2.0660 - val_acc: 0.3350\n"
     ]
    },
    {
     "data": {
      "text/plain": [
       "<keras.callbacks.History at 0x12bc23dd0>"
      ]
     },
     "execution_count": 32,
     "metadata": {},
     "output_type": "execute_result"
    }
   ],
   "source": [
    "batch_size = 32\n",
    "\n",
    "model.fit_generator(image_gen.flow(trainx, trainy, batch_size=batch_size),\n",
    "                   steps_per_epoch=len(trainx)/batch_size,\n",
    "                   verbose=2,\n",
    "                   epochs=40,\n",
    "                   validation_data=(testx, testy))"
   ]
  },
  {
   "cell_type": "code",
   "execution_count": 7,
   "metadata": {
    "collapsed": false
   },
   "outputs": [
    {
     "name": "stdout",
     "output_type": "stream",
     "text": [
      "accuracy: 0.402345058636\n"
     ]
    }
   ],
   "source": [
    "score = model.evaluate(testx, testy, verbose=0)\n",
    "print 'accuracy: {}'.format(score[1])"
   ]
  },
  {
   "cell_type": "code",
   "execution_count": null,
   "metadata": {
    "collapsed": true
   },
   "outputs": [],
   "source": []
  }
 ],
 "metadata": {
  "kernelspec": {
   "display_name": "Python 2",
   "language": "python",
   "name": "python2"
  },
  "language_info": {
   "codemirror_mode": {
    "name": "ipython",
    "version": 2
   },
   "file_extension": ".py",
   "mimetype": "text/x-python",
   "name": "python",
   "nbconvert_exporter": "python",
   "pygments_lexer": "ipython2",
   "version": "2.7.10"
  }
 },
 "nbformat": 4,
 "nbformat_minor": 2
}
